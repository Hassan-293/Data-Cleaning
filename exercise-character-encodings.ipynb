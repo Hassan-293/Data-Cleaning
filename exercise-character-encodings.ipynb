{
 "cells": [
  {
   "cell_type": "markdown",
   "id": "aea09283",
   "metadata": {
    "papermill": {
     "duration": 0.005859,
     "end_time": "2022-06-30T17:08:13.701504",
     "exception": false,
     "start_time": "2022-06-30T17:08:13.695645",
     "status": "completed"
    },
    "tags": []
   },
   "source": [
    "**This notebook is an exercise in the [Data Cleaning](https://www.kaggle.com/learn/data-cleaning) course.  You can reference the tutorial at [this link](https://www.kaggle.com/alexisbcook/character-encodings).**\n",
    "\n",
    "---\n"
   ]
  },
  {
   "cell_type": "markdown",
   "id": "c5208b1e",
   "metadata": {
    "papermill": {
     "duration": 0.005042,
     "end_time": "2022-06-30T17:08:13.712030",
     "exception": false,
     "start_time": "2022-06-30T17:08:13.706988",
     "status": "completed"
    },
    "tags": []
   },
   "source": [
    "In this exercise, you'll apply what you learned in the **Character encodings** tutorial.\n",
    "\n",
    "# Setup\n",
    "\n",
    "The questions below will give you feedback on your work. Run the following cell to set up the feedback system."
   ]
  },
  {
   "cell_type": "code",
   "execution_count": 1,
   "id": "7c1ae122",
   "metadata": {
    "execution": {
     "iopub.execute_input": "2022-06-30T17:08:13.725678Z",
     "iopub.status.busy": "2022-06-30T17:08:13.725167Z",
     "iopub.status.idle": "2022-06-30T17:08:13.814819Z",
     "shell.execute_reply": "2022-06-30T17:08:13.813650Z"
    },
    "papermill": {
     "duration": 0.101061,
     "end_time": "2022-06-30T17:08:13.818446",
     "exception": false,
     "start_time": "2022-06-30T17:08:13.717385",
     "status": "completed"
    },
    "tags": []
   },
   "outputs": [
    {
     "name": "stdout",
     "output_type": "stream",
     "text": [
      "Setup Complete\n"
     ]
    }
   ],
   "source": [
    "from learntools.core import binder\n",
    "binder.bind(globals())\n",
    "from learntools.data_cleaning.ex4 import *\n",
    "print(\"Setup Complete\")"
   ]
  },
  {
   "cell_type": "markdown",
   "id": "60bbad2e",
   "metadata": {
    "papermill": {
     "duration": 0.005182,
     "end_time": "2022-06-30T17:08:13.830058",
     "exception": false,
     "start_time": "2022-06-30T17:08:13.824876",
     "status": "completed"
    },
    "tags": []
   },
   "source": [
    "# Get our environment set up\n",
    "\n",
    "The first thing we'll need to do is load in the libraries we'll be using."
   ]
  },
  {
   "cell_type": "code",
   "execution_count": 2,
   "id": "b48192af",
   "metadata": {
    "execution": {
     "iopub.execute_input": "2022-06-30T17:08:13.842311Z",
     "iopub.status.busy": "2022-06-30T17:08:13.841879Z",
     "iopub.status.idle": "2022-06-30T17:08:13.847296Z",
     "shell.execute_reply": "2022-06-30T17:08:13.846141Z"
    },
    "papermill": {
     "duration": 0.013893,
     "end_time": "2022-06-30T17:08:13.849279",
     "exception": false,
     "start_time": "2022-06-30T17:08:13.835386",
     "status": "completed"
    },
    "tags": []
   },
   "outputs": [],
   "source": [
    "# modules we'll use\n",
    "import pandas as pd\n",
    "import numpy as np\n",
    "\n",
    "# helpful character encoding module\n",
    "import chardet\n",
    "\n",
    "# set seed for reproducibility\n",
    "np.random.seed(0)"
   ]
  },
  {
   "cell_type": "markdown",
   "id": "1e466673",
   "metadata": {
    "papermill": {
     "duration": 0.005014,
     "end_time": "2022-06-30T17:08:13.859489",
     "exception": false,
     "start_time": "2022-06-30T17:08:13.854475",
     "status": "completed"
    },
    "tags": []
   },
   "source": [
    "# 1) What are encodings?\n",
    "\n",
    "You're working with a dataset composed of bytes.  Run the code cell below to print a sample entry."
   ]
  },
  {
   "cell_type": "code",
   "execution_count": 3,
   "id": "366b2799",
   "metadata": {
    "execution": {
     "iopub.execute_input": "2022-06-30T17:08:13.871733Z",
     "iopub.status.busy": "2022-06-30T17:08:13.870773Z",
     "iopub.status.idle": "2022-06-30T17:08:13.876539Z",
     "shell.execute_reply": "2022-06-30T17:08:13.875559Z"
    },
    "papermill": {
     "duration": 0.013995,
     "end_time": "2022-06-30T17:08:13.878697",
     "exception": false,
     "start_time": "2022-06-30T17:08:13.864702",
     "status": "completed"
    },
    "tags": []
   },
   "outputs": [
    {
     "name": "stdout",
     "output_type": "stream",
     "text": [
      "b'\\xa7A\\xa6n'\n",
      "data type: <class 'bytes'>\n"
     ]
    }
   ],
   "source": [
    "sample_entry = b'\\xa7A\\xa6n'\n",
    "print(sample_entry)\n",
    "print('data type:', type(sample_entry))"
   ]
  },
  {
   "cell_type": "markdown",
   "id": "0bcb5a58",
   "metadata": {
    "papermill": {
     "duration": 0.004855,
     "end_time": "2022-06-30T17:08:13.888304",
     "exception": false,
     "start_time": "2022-06-30T17:08:13.883449",
     "status": "completed"
    },
    "tags": []
   },
   "source": [
    "You notice that it doesn't use the standard UTF-8 encoding. \n",
    "\n",
    "Use the next code cell to create a variable `new_entry` that changes the encoding from `\"big5-tw\"` to `\"utf-8\"`.  `new_entry` should have the bytes datatype."
   ]
  },
  {
   "cell_type": "code",
   "execution_count": 4,
   "id": "cb452dea",
   "metadata": {
    "execution": {
     "iopub.execute_input": "2022-06-30T17:08:13.899507Z",
     "iopub.status.busy": "2022-06-30T17:08:13.899208Z",
     "iopub.status.idle": "2022-06-30T17:08:13.908611Z",
     "shell.execute_reply": "2022-06-30T17:08:13.907917Z"
    },
    "papermill": {
     "duration": 0.017584,
     "end_time": "2022-06-30T17:08:13.910524",
     "exception": false,
     "start_time": "2022-06-30T17:08:13.892940",
     "status": "completed"
    },
    "tags": []
   },
   "outputs": [
    {
     "data": {
      "application/javascript": [
       "parent.postMessage({\"jupyterEvent\": \"custom.exercise_interaction\", \"data\": {\"outcomeType\": 1, \"valueTowardsCompletion\": 0.3333333333333333, \"interactionType\": 1, \"questionType\": 1, \"questionId\": \"1_EncodingsIntro\", \"learnToolsVersion\": \"0.3.4\", \"failureMessage\": \"\", \"exceptionClass\": \"\", \"trace\": \"\"}}, \"*\")"
      ],
      "text/plain": [
       "<IPython.core.display.Javascript object>"
      ]
     },
     "metadata": {},
     "output_type": "display_data"
    },
    {
     "data": {
      "text/markdown": [
       "<span style=\"color:#33cc33\">Correct</span>"
      ],
      "text/plain": [
       "Correct"
      ]
     },
     "metadata": {},
     "output_type": "display_data"
    }
   ],
   "source": [
    "new_entry = sample_entry.decode(\"big5-tw\")\n",
    "new_entry = new_entry.encode()\n",
    "\n",
    "# Check your answer\n",
    "q1.check()\n"
   ]
  },
  {
   "cell_type": "code",
   "execution_count": 5,
   "id": "81e30f0c",
   "metadata": {
    "execution": {
     "iopub.execute_input": "2022-06-30T17:08:13.923655Z",
     "iopub.status.busy": "2022-06-30T17:08:13.923042Z",
     "iopub.status.idle": "2022-06-30T17:08:13.926536Z",
     "shell.execute_reply": "2022-06-30T17:08:13.925870Z"
    },
    "papermill": {
     "duration": 0.012425,
     "end_time": "2022-06-30T17:08:13.928535",
     "exception": false,
     "start_time": "2022-06-30T17:08:13.916110",
     "status": "completed"
    },
    "tags": []
   },
   "outputs": [],
   "source": [
    "# Lines below will give you a hint or solution code\n",
    "#q1.hint()\n",
    "#q1.solution()"
   ]
  },
  {
   "cell_type": "markdown",
   "id": "fa844033",
   "metadata": {
    "papermill": {
     "duration": 0.005278,
     "end_time": "2022-06-30T17:08:13.939227",
     "exception": false,
     "start_time": "2022-06-30T17:08:13.933949",
     "status": "completed"
    },
    "tags": []
   },
   "source": [
    "new_entry = sample_entry.decode(\"big5-tw\")\n",
    "new_entry = new_entry.encode()\n",
    "\n",
    "# Check your answer\n",
    "q1.check()\n",
    "# 2) Reading in files with encoding problems\n",
    "\n",
    "Use the code cell below to read in this file at path `\"../input/fatal-police-shootings-in-the-us/PoliceKillingsUS.csv\"`.  \n",
    "\n",
    "Figure out what the correct encoding should be and read in the file to a DataFrame `police_killings`."
   ]
  },
  {
   "cell_type": "code",
   "execution_count": 6,
   "id": "7bd3ff07",
   "metadata": {
    "execution": {
     "iopub.execute_input": "2022-06-30T17:08:13.952467Z",
     "iopub.status.busy": "2022-06-30T17:08:13.951763Z",
     "iopub.status.idle": "2022-06-30T17:08:13.977643Z",
     "shell.execute_reply": "2022-06-30T17:08:13.976748Z"
    },
    "papermill": {
     "duration": 0.035017,
     "end_time": "2022-06-30T17:08:13.979712",
     "exception": false,
     "start_time": "2022-06-30T17:08:13.944695",
     "status": "completed"
    },
    "tags": []
   },
   "outputs": [
    {
     "data": {
      "application/javascript": [
       "parent.postMessage({\"jupyterEvent\": \"custom.exercise_interaction\", \"data\": {\"outcomeType\": 1, \"valueTowardsCompletion\": 0.3333333333333333, \"interactionType\": 1, \"questionType\": 1, \"questionId\": \"2_ReadIn\", \"learnToolsVersion\": \"0.3.4\", \"failureMessage\": \"\", \"exceptionClass\": \"\", \"trace\": \"\"}}, \"*\")"
      ],
      "text/plain": [
       "<IPython.core.display.Javascript object>"
      ]
     },
     "metadata": {},
     "output_type": "display_data"
    },
    {
     "data": {
      "text/markdown": [
       "<span style=\"color:#33cc33\">Correct</span>"
      ],
      "text/plain": [
       "Correct"
      ]
     },
     "metadata": {},
     "output_type": "display_data"
    }
   ],
   "source": [
    "# TODO: Load in the DataFrame correctly.\n",
    "\n",
    "police_killings = pd.read_csv(\"../input/fatal-police-shootings-in-the-us/PoliceKillingsUS.csv\", encoding='Windows-1252')\n",
    "police_killings.head()\n",
    "\n",
    "# Check your answer\n",
    "q2.check()"
   ]
  },
  {
   "cell_type": "markdown",
   "id": "12a90740",
   "metadata": {
    "papermill": {
     "duration": 0.005425,
     "end_time": "2022-06-30T17:08:13.990807",
     "exception": false,
     "start_time": "2022-06-30T17:08:13.985382",
     "status": "completed"
    },
    "tags": []
   },
   "source": [
    "Feel free to use any additional code cells for supplemental work.  To get credit for finishing this question, you'll need to run `q2.check()` and get a result of **Correct**."
   ]
  },
  {
   "cell_type": "code",
   "execution_count": 7,
   "id": "c68e1b9d",
   "metadata": {
    "execution": {
     "iopub.execute_input": "2022-06-30T17:08:14.004040Z",
     "iopub.status.busy": "2022-06-30T17:08:14.003039Z",
     "iopub.status.idle": "2022-06-30T17:08:14.011112Z",
     "shell.execute_reply": "2022-06-30T17:08:14.009689Z"
    },
    "papermill": {
     "duration": 0.016987,
     "end_time": "2022-06-30T17:08:14.013401",
     "exception": false,
     "start_time": "2022-06-30T17:08:13.996414",
     "status": "completed"
    },
    "tags": []
   },
   "outputs": [
    {
     "name": "stdout",
     "output_type": "stream",
     "text": [
      "{'encoding': 'ascii', 'confidence': 1.0, 'language': ''}\n"
     ]
    }
   ],
   "source": [
    "with open(\"../input/fatal-police-shootings-in-the-us/PoliceKillingsUS.csv\", 'rb') as rawdata:\n",
    "    result = chardet.detect(rawdata.read(10000))\n",
    "print(result)\n"
   ]
  },
  {
   "cell_type": "code",
   "execution_count": 8,
   "id": "34ad87c6",
   "metadata": {
    "execution": {
     "iopub.execute_input": "2022-06-30T17:08:14.026804Z",
     "iopub.status.busy": "2022-06-30T17:08:14.026463Z",
     "iopub.status.idle": "2022-06-30T17:08:14.034764Z",
     "shell.execute_reply": "2022-06-30T17:08:14.033674Z"
    },
    "papermill": {
     "duration": 0.017603,
     "end_time": "2022-06-30T17:08:14.036984",
     "exception": false,
     "start_time": "2022-06-30T17:08:14.019381",
     "status": "completed"
    },
    "tags": []
   },
   "outputs": [
    {
     "data": {
      "application/javascript": [
       "parent.postMessage({\"jupyterEvent\": \"custom.exercise_interaction\", \"data\": {\"interactionType\": 2, \"questionType\": 1, \"questionId\": \"2_ReadIn\", \"learnToolsVersion\": \"0.3.4\", \"valueTowardsCompletion\": 0.0, \"failureMessage\": \"\", \"exceptionClass\": \"\", \"trace\": \"\", \"outcomeType\": 4}}, \"*\")"
      ],
      "text/plain": [
       "<IPython.core.display.Javascript object>"
      ]
     },
     "metadata": {},
     "output_type": "display_data"
    },
    {
     "data": {
      "text/markdown": [
       "<span style=\"color:#3366cc\">Hint:</span> If you try to guess the encoding with the first 10,000 bytes of the file, it might give you the wrong answer.  Try using 100,000 or more lines of the file."
      ],
      "text/plain": [
       "Hint: If you try to guess the encoding with the first 10,000 bytes of the file, it might give you the wrong answer.  Try using 100,000 or more lines of the file."
      ]
     },
     "metadata": {},
     "output_type": "display_data"
    }
   ],
   "source": [
    "# Lines below will give you a hint or solution code\n",
    "q2.hint()\n",
    "#q2.solution()"
   ]
  },
  {
   "cell_type": "markdown",
   "id": "2d00f72a",
   "metadata": {
    "papermill": {
     "duration": 0.005632,
     "end_time": "2022-06-30T17:08:14.048470",
     "exception": false,
     "start_time": "2022-06-30T17:08:14.042838",
     "status": "completed"
    },
    "tags": []
   },
   "source": [
    "# 3) Saving your files with UTF-8 encoding\n",
    "\n",
    "Save a version of the police killings dataset to CSV with UTF-8 encoding.  Your answer will be marked correct after saving this file.  \n",
    "\n",
    "Note: When using the `to_csv()` method, supply only the name of the file (e.g., `\"my_file.csv\"`).  This saves the file at the filepath `\"/kaggle/working/my_file.csv\"`."
   ]
  },
  {
   "cell_type": "code",
   "execution_count": 9,
   "id": "a70d8db5",
   "metadata": {
    "execution": {
     "iopub.execute_input": "2022-06-30T17:08:14.061898Z",
     "iopub.status.busy": "2022-06-30T17:08:14.061563Z",
     "iopub.status.idle": "2022-06-30T17:08:14.104734Z",
     "shell.execute_reply": "2022-06-30T17:08:14.103654Z"
    },
    "papermill": {
     "duration": 0.05271,
     "end_time": "2022-06-30T17:08:14.107063",
     "exception": false,
     "start_time": "2022-06-30T17:08:14.054353",
     "status": "completed"
    },
    "tags": []
   },
   "outputs": [
    {
     "data": {
      "application/javascript": [
       "parent.postMessage({\"jupyterEvent\": \"custom.exercise_interaction\", \"data\": {\"outcomeType\": 1, \"valueTowardsCompletion\": 0.3333333333333333, \"interactionType\": 1, \"questionType\": 2, \"questionId\": \"3_SaveCSV\", \"learnToolsVersion\": \"0.3.4\", \"failureMessage\": \"\", \"exceptionClass\": \"\", \"trace\": \"\"}}, \"*\")"
      ],
      "text/plain": [
       "<IPython.core.display.Javascript object>"
      ]
     },
     "metadata": {},
     "output_type": "display_data"
    },
    {
     "data": {
      "text/markdown": [
       "<span style=\"color:#33cc33\">Correct</span>"
      ],
      "text/plain": [
       "Correct"
      ]
     },
     "metadata": {},
     "output_type": "display_data"
    }
   ],
   "source": [
    "# TODO: Save the police killings dataset to CSV\n",
    "\n",
    "police_killings.to_csv(\"/kaggle/working/my_file.csv\")\n",
    "\n",
    "# Check your answer\n",
    "q3.check()"
   ]
  },
  {
   "cell_type": "code",
   "execution_count": 10,
   "id": "f7b9f14b",
   "metadata": {
    "execution": {
     "iopub.execute_input": "2022-06-30T17:08:14.121481Z",
     "iopub.status.busy": "2022-06-30T17:08:14.121110Z",
     "iopub.status.idle": "2022-06-30T17:08:14.125266Z",
     "shell.execute_reply": "2022-06-30T17:08:14.124342Z"
    },
    "papermill": {
     "duration": 0.013907,
     "end_time": "2022-06-30T17:08:14.127396",
     "exception": false,
     "start_time": "2022-06-30T17:08:14.113489",
     "status": "completed"
    },
    "tags": []
   },
   "outputs": [],
   "source": [
    "# Lines below will give you a hint or solution code\n",
    "#q3.hint()\n",
    "#q3.solution()"
   ]
  },
  {
   "cell_type": "markdown",
   "id": "7525cef1",
   "metadata": {
    "papermill": {
     "duration": 0.005896,
     "end_time": "2022-06-30T17:08:14.139626",
     "exception": false,
     "start_time": "2022-06-30T17:08:14.133730",
     "status": "completed"
    },
    "tags": []
   },
   "source": [
    "# (Optional) More practice\n",
    "\n",
    "Check out [this dataset of files in different character encodings](https://www.kaggle.com/rtatman/character-encoding-examples). Can you read in all the files with their original encodings and them save them out as UTF-8 files?\n",
    "\n",
    "If you have a file that's in UTF-8 but has just a couple of weird-looking characters in it, you can try out the [ftfy module](https://ftfy.readthedocs.io/en/latest/#) and see if it helps. \n",
    "\n",
    "# Keep going\n",
    "\n",
    "In the final lesson, learn how to [**clean up inconsistent text entries**](https://www.kaggle.com/alexisbcook/inconsistent-data-entry) in your dataset."
   ]
  },
  {
   "cell_type": "markdown",
   "id": "4daf9882",
   "metadata": {
    "papermill": {
     "duration": 0.005786,
     "end_time": "2022-06-30T17:08:14.151609",
     "exception": false,
     "start_time": "2022-06-30T17:08:14.145823",
     "status": "completed"
    },
    "tags": []
   },
   "source": [
    "---\n",
    "\n",
    "\n",
    "\n",
    "\n",
    "*Have questions or comments? Visit the [course discussion forum](https://www.kaggle.com/learn/data-cleaning/discussion) to chat with other learners.*"
   ]
  }
 ],
 "metadata": {
  "kernelspec": {
   "display_name": "Python 3",
   "language": "python",
   "name": "python3"
  },
  "language_info": {
   "codemirror_mode": {
    "name": "ipython",
    "version": 3
   },
   "file_extension": ".py",
   "mimetype": "text/x-python",
   "name": "python",
   "nbconvert_exporter": "python",
   "pygments_lexer": "ipython3",
   "version": "3.7.12"
  },
  "papermill": {
   "default_parameters": {},
   "duration": 10.822472,
   "end_time": "2022-06-30T17:08:14.778170",
   "environment_variables": {},
   "exception": null,
   "input_path": "__notebook__.ipynb",
   "output_path": "__notebook__.ipynb",
   "parameters": {},
   "start_time": "2022-06-30T17:08:03.955698",
   "version": "2.3.4"
  }
 },
 "nbformat": 4,
 "nbformat_minor": 5
}
