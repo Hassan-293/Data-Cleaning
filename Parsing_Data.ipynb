{
  "nbformat": 4,
  "nbformat_minor": 0,
  "metadata": {
    "colab": {
      "name": "Parsing Data.ipynb",
      "provenance": []
    },
    "kernelspec": {
      "name": "python3",
      "display_name": "Python 3"
    },
    "language_info": {
      "name": "python"
    }
  },
  "cells": [
    {
      "cell_type": "code",
      "execution_count": 2,
      "metadata": {
        "id": "dodic_i4kuIE"
      },
      "outputs": [],
      "source": [
        "import pandas as pd\n",
        "import numpy as np\n",
        "import seaborn as sns\n",
        "import datetime\n",
        "\n",
        "# read in our data\n",
        "landslides = pd.read_csv(\"/content/catalog.csv\")\n",
        "\n",
        "# set seed for reproducibility\n",
        "np.random.seed(0)"
      ]
    },
    {
      "cell_type": "code",
      "source": [
        "landslides.head()"
      ],
      "metadata": {
        "colab": {
          "base_uri": "https://localhost:8080/",
          "height": 421
        },
        "id": "qiaJVT_alPkm",
        "outputId": "c5ccefbd-5f10-4893-cd9a-5df544f03b6b"
      },
      "execution_count": 3,
      "outputs": [
        {
          "output_type": "execute_result",
          "data": {
            "text/plain": [
              "   id     date   time continent_code   country_name country_code  \\\n",
              "0  34   3/2/07  Night            NaN  United States           US   \n",
              "1  42  3/22/07    NaN            NaN  United States           US   \n",
              "2  56   4/6/07    NaN            NaN  United States           US   \n",
              "3  59  4/14/07    NaN            NaN         Canada           CA   \n",
              "4  61  4/15/07    NaN            NaN  United States           US   \n",
              "\n",
              "  state/province  population         city/town  distance  ...  \\\n",
              "0       Virginia       16000       Cherry Hill   3.40765  ...   \n",
              "1           Ohio       17288  New Philadelphia   3.33522  ...   \n",
              "2   Pennsylvania       15930       Wilkinsburg   2.91977  ...   \n",
              "3         Quebec       42786       Châteauguay   2.98682  ...   \n",
              "4       Kentucky        6903         Pikeville   5.66542  ...   \n",
              "\n",
              "                                 geolocation  hazard_type      landslide_type  \\\n",
              "0  (38.600900000000003, -77.268199999999993)    Landslide           Landslide   \n",
              "1  (40.517499999999998, -81.430499999999995)    Landslide           Landslide   \n",
              "2             (40.4377, -79.915999999999997)    Landslide           Landslide   \n",
              "3  (45.322600000000001, -73.777100000000004)    Landslide  Riverbank collapse   \n",
              "4  (37.432499999999997, -82.493099999999998)    Landslide           Landslide   \n",
              "\n",
              "  landslide_size   trigger storm_name injuries fatalities  \\\n",
              "0          Small      Rain        NaN      NaN        NaN   \n",
              "1          Small      Rain        NaN      NaN        NaN   \n",
              "2          Small      Rain        NaN      NaN        NaN   \n",
              "3          Small      Rain        NaN      NaN        NaN   \n",
              "4          Small  Downpour        NaN      NaN        0.0   \n",
              "\n",
              "                  source_name  \\\n",
              "0                  NBC 4 news   \n",
              "1              Canton Rep.com   \n",
              "2  The Pittsburgh Channel.com   \n",
              "3                   Le Soleil   \n",
              "4      Matthew Crawford (KGS)   \n",
              "\n",
              "                                         source_link  \n",
              "0      http://www.nbc4.com/news/11186871/detail.html  \n",
              "1  http://www.cantonrep.com/index.php?ID=345054&C...  \n",
              "2  https://web.archive.org/web/20080423132842/htt...  \n",
              "3  http://www.hebdos.net/lsc/edition162007/articl...  \n",
              "4                                                NaN  \n",
              "\n",
              "[5 rows x 23 columns]"
            ],
            "text/html": [
              "\n",
              "  <div id=\"df-32c5b8f0-e88e-4fdb-bd27-7ea287d252a2\">\n",
              "    <div class=\"colab-df-container\">\n",
              "      <div>\n",
              "<style scoped>\n",
              "    .dataframe tbody tr th:only-of-type {\n",
              "        vertical-align: middle;\n",
              "    }\n",
              "\n",
              "    .dataframe tbody tr th {\n",
              "        vertical-align: top;\n",
              "    }\n",
              "\n",
              "    .dataframe thead th {\n",
              "        text-align: right;\n",
              "    }\n",
              "</style>\n",
              "<table border=\"1\" class=\"dataframe\">\n",
              "  <thead>\n",
              "    <tr style=\"text-align: right;\">\n",
              "      <th></th>\n",
              "      <th>id</th>\n",
              "      <th>date</th>\n",
              "      <th>time</th>\n",
              "      <th>continent_code</th>\n",
              "      <th>country_name</th>\n",
              "      <th>country_code</th>\n",
              "      <th>state/province</th>\n",
              "      <th>population</th>\n",
              "      <th>city/town</th>\n",
              "      <th>distance</th>\n",
              "      <th>...</th>\n",
              "      <th>geolocation</th>\n",
              "      <th>hazard_type</th>\n",
              "      <th>landslide_type</th>\n",
              "      <th>landslide_size</th>\n",
              "      <th>trigger</th>\n",
              "      <th>storm_name</th>\n",
              "      <th>injuries</th>\n",
              "      <th>fatalities</th>\n",
              "      <th>source_name</th>\n",
              "      <th>source_link</th>\n",
              "    </tr>\n",
              "  </thead>\n",
              "  <tbody>\n",
              "    <tr>\n",
              "      <th>0</th>\n",
              "      <td>34</td>\n",
              "      <td>3/2/07</td>\n",
              "      <td>Night</td>\n",
              "      <td>NaN</td>\n",
              "      <td>United States</td>\n",
              "      <td>US</td>\n",
              "      <td>Virginia</td>\n",
              "      <td>16000</td>\n",
              "      <td>Cherry Hill</td>\n",
              "      <td>3.40765</td>\n",
              "      <td>...</td>\n",
              "      <td>(38.600900000000003, -77.268199999999993)</td>\n",
              "      <td>Landslide</td>\n",
              "      <td>Landslide</td>\n",
              "      <td>Small</td>\n",
              "      <td>Rain</td>\n",
              "      <td>NaN</td>\n",
              "      <td>NaN</td>\n",
              "      <td>NaN</td>\n",
              "      <td>NBC 4 news</td>\n",
              "      <td>http://www.nbc4.com/news/11186871/detail.html</td>\n",
              "    </tr>\n",
              "    <tr>\n",
              "      <th>1</th>\n",
              "      <td>42</td>\n",
              "      <td>3/22/07</td>\n",
              "      <td>NaN</td>\n",
              "      <td>NaN</td>\n",
              "      <td>United States</td>\n",
              "      <td>US</td>\n",
              "      <td>Ohio</td>\n",
              "      <td>17288</td>\n",
              "      <td>New Philadelphia</td>\n",
              "      <td>3.33522</td>\n",
              "      <td>...</td>\n",
              "      <td>(40.517499999999998, -81.430499999999995)</td>\n",
              "      <td>Landslide</td>\n",
              "      <td>Landslide</td>\n",
              "      <td>Small</td>\n",
              "      <td>Rain</td>\n",
              "      <td>NaN</td>\n",
              "      <td>NaN</td>\n",
              "      <td>NaN</td>\n",
              "      <td>Canton Rep.com</td>\n",
              "      <td>http://www.cantonrep.com/index.php?ID=345054&amp;C...</td>\n",
              "    </tr>\n",
              "    <tr>\n",
              "      <th>2</th>\n",
              "      <td>56</td>\n",
              "      <td>4/6/07</td>\n",
              "      <td>NaN</td>\n",
              "      <td>NaN</td>\n",
              "      <td>United States</td>\n",
              "      <td>US</td>\n",
              "      <td>Pennsylvania</td>\n",
              "      <td>15930</td>\n",
              "      <td>Wilkinsburg</td>\n",
              "      <td>2.91977</td>\n",
              "      <td>...</td>\n",
              "      <td>(40.4377, -79.915999999999997)</td>\n",
              "      <td>Landslide</td>\n",
              "      <td>Landslide</td>\n",
              "      <td>Small</td>\n",
              "      <td>Rain</td>\n",
              "      <td>NaN</td>\n",
              "      <td>NaN</td>\n",
              "      <td>NaN</td>\n",
              "      <td>The Pittsburgh Channel.com</td>\n",
              "      <td>https://web.archive.org/web/20080423132842/htt...</td>\n",
              "    </tr>\n",
              "    <tr>\n",
              "      <th>3</th>\n",
              "      <td>59</td>\n",
              "      <td>4/14/07</td>\n",
              "      <td>NaN</td>\n",
              "      <td>NaN</td>\n",
              "      <td>Canada</td>\n",
              "      <td>CA</td>\n",
              "      <td>Quebec</td>\n",
              "      <td>42786</td>\n",
              "      <td>Châteauguay</td>\n",
              "      <td>2.98682</td>\n",
              "      <td>...</td>\n",
              "      <td>(45.322600000000001, -73.777100000000004)</td>\n",
              "      <td>Landslide</td>\n",
              "      <td>Riverbank collapse</td>\n",
              "      <td>Small</td>\n",
              "      <td>Rain</td>\n",
              "      <td>NaN</td>\n",
              "      <td>NaN</td>\n",
              "      <td>NaN</td>\n",
              "      <td>Le Soleil</td>\n",
              "      <td>http://www.hebdos.net/lsc/edition162007/articl...</td>\n",
              "    </tr>\n",
              "    <tr>\n",
              "      <th>4</th>\n",
              "      <td>61</td>\n",
              "      <td>4/15/07</td>\n",
              "      <td>NaN</td>\n",
              "      <td>NaN</td>\n",
              "      <td>United States</td>\n",
              "      <td>US</td>\n",
              "      <td>Kentucky</td>\n",
              "      <td>6903</td>\n",
              "      <td>Pikeville</td>\n",
              "      <td>5.66542</td>\n",
              "      <td>...</td>\n",
              "      <td>(37.432499999999997, -82.493099999999998)</td>\n",
              "      <td>Landslide</td>\n",
              "      <td>Landslide</td>\n",
              "      <td>Small</td>\n",
              "      <td>Downpour</td>\n",
              "      <td>NaN</td>\n",
              "      <td>NaN</td>\n",
              "      <td>0.0</td>\n",
              "      <td>Matthew Crawford (KGS)</td>\n",
              "      <td>NaN</td>\n",
              "    </tr>\n",
              "  </tbody>\n",
              "</table>\n",
              "<p>5 rows × 23 columns</p>\n",
              "</div>\n",
              "      <button class=\"colab-df-convert\" onclick=\"convertToInteractive('df-32c5b8f0-e88e-4fdb-bd27-7ea287d252a2')\"\n",
              "              title=\"Convert this dataframe to an interactive table.\"\n",
              "              style=\"display:none;\">\n",
              "        \n",
              "  <svg xmlns=\"http://www.w3.org/2000/svg\" height=\"24px\"viewBox=\"0 0 24 24\"\n",
              "       width=\"24px\">\n",
              "    <path d=\"M0 0h24v24H0V0z\" fill=\"none\"/>\n",
              "    <path d=\"M18.56 5.44l.94 2.06.94-2.06 2.06-.94-2.06-.94-.94-2.06-.94 2.06-2.06.94zm-11 1L8.5 8.5l.94-2.06 2.06-.94-2.06-.94L8.5 2.5l-.94 2.06-2.06.94zm10 10l.94 2.06.94-2.06 2.06-.94-2.06-.94-.94-2.06-.94 2.06-2.06.94z\"/><path d=\"M17.41 7.96l-1.37-1.37c-.4-.4-.92-.59-1.43-.59-.52 0-1.04.2-1.43.59L10.3 9.45l-7.72 7.72c-.78.78-.78 2.05 0 2.83L4 21.41c.39.39.9.59 1.41.59.51 0 1.02-.2 1.41-.59l7.78-7.78 2.81-2.81c.8-.78.8-2.07 0-2.86zM5.41 20L4 18.59l7.72-7.72 1.47 1.35L5.41 20z\"/>\n",
              "  </svg>\n",
              "      </button>\n",
              "      \n",
              "  <style>\n",
              "    .colab-df-container {\n",
              "      display:flex;\n",
              "      flex-wrap:wrap;\n",
              "      gap: 12px;\n",
              "    }\n",
              "\n",
              "    .colab-df-convert {\n",
              "      background-color: #E8F0FE;\n",
              "      border: none;\n",
              "      border-radius: 50%;\n",
              "      cursor: pointer;\n",
              "      display: none;\n",
              "      fill: #1967D2;\n",
              "      height: 32px;\n",
              "      padding: 0 0 0 0;\n",
              "      width: 32px;\n",
              "    }\n",
              "\n",
              "    .colab-df-convert:hover {\n",
              "      background-color: #E2EBFA;\n",
              "      box-shadow: 0px 1px 2px rgba(60, 64, 67, 0.3), 0px 1px 3px 1px rgba(60, 64, 67, 0.15);\n",
              "      fill: #174EA6;\n",
              "    }\n",
              "\n",
              "    [theme=dark] .colab-df-convert {\n",
              "      background-color: #3B4455;\n",
              "      fill: #D2E3FC;\n",
              "    }\n",
              "\n",
              "    [theme=dark] .colab-df-convert:hover {\n",
              "      background-color: #434B5C;\n",
              "      box-shadow: 0px 1px 3px 1px rgba(0, 0, 0, 0.15);\n",
              "      filter: drop-shadow(0px 1px 2px rgba(0, 0, 0, 0.3));\n",
              "      fill: #FFFFFF;\n",
              "    }\n",
              "  </style>\n",
              "\n",
              "      <script>\n",
              "        const buttonEl =\n",
              "          document.querySelector('#df-32c5b8f0-e88e-4fdb-bd27-7ea287d252a2 button.colab-df-convert');\n",
              "        buttonEl.style.display =\n",
              "          google.colab.kernel.accessAllowed ? 'block' : 'none';\n",
              "\n",
              "        async function convertToInteractive(key) {\n",
              "          const element = document.querySelector('#df-32c5b8f0-e88e-4fdb-bd27-7ea287d252a2');\n",
              "          const dataTable =\n",
              "            await google.colab.kernel.invokeFunction('convertToInteractive',\n",
              "                                                     [key], {});\n",
              "          if (!dataTable) return;\n",
              "\n",
              "          const docLinkHtml = 'Like what you see? Visit the ' +\n",
              "            '<a target=\"_blank\" href=https://colab.research.google.com/notebooks/data_table.ipynb>data table notebook</a>'\n",
              "            + ' to learn more about interactive tables.';\n",
              "          element.innerHTML = '';\n",
              "          dataTable['output_type'] = 'display_data';\n",
              "          await google.colab.output.renderOutput(dataTable, element);\n",
              "          const docLink = document.createElement('div');\n",
              "          docLink.innerHTML = docLinkHtml;\n",
              "          element.appendChild(docLink);\n",
              "        }\n",
              "      </script>\n",
              "    </div>\n",
              "  </div>\n",
              "  "
            ]
          },
          "metadata": {},
          "execution_count": 3
        }
      ]
    },
    {
      "cell_type": "code",
      "source": [
        "# print the first few rows of the date column\n",
        "print(landslides['date'].head())"
      ],
      "metadata": {
        "colab": {
          "base_uri": "https://localhost:8080/"
        },
        "id": "xRo_0mpGlZZV",
        "outputId": "be270db8-6dee-4475-9ce0-c7c699f77915"
      },
      "execution_count": 4,
      "outputs": [
        {
          "output_type": "stream",
          "name": "stdout",
          "text": [
            "0     3/2/07\n",
            "1    3/22/07\n",
            "2     4/6/07\n",
            "3    4/14/07\n",
            "4    4/15/07\n",
            "Name: date, dtype: object\n"
          ]
        }
      ]
    },
    {
      "cell_type": "code",
      "source": [
        "landslides['date_parsed'] = pd.to_datetime(landslides['date'], format=\"%m/%d/%y\")"
      ],
      "metadata": {
        "id": "LXvoDuwelnEM"
      },
      "execution_count": 5,
      "outputs": []
    },
    {
      "cell_type": "code",
      "source": [
        "landslides['date_parsed'].head()"
      ],
      "metadata": {
        "colab": {
          "base_uri": "https://localhost:8080/"
        },
        "id": "fD06DN5elrLN",
        "outputId": "3f9a723b-68dc-49e8-bcda-cf8c9e765927"
      },
      "execution_count": 7,
      "outputs": [
        {
          "output_type": "execute_result",
          "data": {
            "text/plain": [
              "0   2007-03-02\n",
              "1   2007-03-22\n",
              "2   2007-04-06\n",
              "3   2007-04-14\n",
              "4   2007-04-15\n",
              "Name: date_parsed, dtype: datetime64[ns]"
            ]
          },
          "metadata": {},
          "execution_count": 7
        }
      ]
    },
    {
      "cell_type": "code",
      "source": [
        "# get the day of the month from the date_parsed column\n",
        "day_of_month_landslides = landslides['date_parsed'].dt.day\n",
        "day_of_month_landslides.head()"
      ],
      "metadata": {
        "colab": {
          "base_uri": "https://localhost:8080/"
        },
        "id": "udW37fY-lxrM",
        "outputId": "80b0919d-fc81-4eed-b437-e343b0572e78"
      },
      "execution_count": 8,
      "outputs": [
        {
          "output_type": "execute_result",
          "data": {
            "text/plain": [
              "0     2.0\n",
              "1    22.0\n",
              "2     6.0\n",
              "3    14.0\n",
              "4    15.0\n",
              "Name: date_parsed, dtype: float64"
            ]
          },
          "metadata": {},
          "execution_count": 8
        }
      ]
    },
    {
      "cell_type": "code",
      "source": [
        "# remove na's\n",
        "day_of_month_landslides = day_of_month_landslides.dropna()\n",
        "\n",
        "# plot the day of the month\n",
        "sns.distplot(day_of_month_landslides, kde=False, bins=31)"
      ],
      "metadata": {
        "colab": {
          "base_uri": "https://localhost:8080/",
          "height": 352
        },
        "id": "WR20lAYvl4BD",
        "outputId": "adcbfdba-f02d-456b-bb72-456db262b9e5"
      },
      "execution_count": 9,
      "outputs": [
        {
          "output_type": "stream",
          "name": "stderr",
          "text": [
            "/usr/local/lib/python3.7/dist-packages/seaborn/distributions.py:2619: FutureWarning: `distplot` is a deprecated function and will be removed in a future version. Please adapt your code to use either `displot` (a figure-level function with similar flexibility) or `histplot` (an axes-level function for histograms).\n",
            "  warnings.warn(msg, FutureWarning)\n"
          ]
        },
        {
          "output_type": "execute_result",
          "data": {
            "text/plain": [
              "<matplotlib.axes._subplots.AxesSubplot at 0x7f02f1aa39d0>"
            ]
          },
          "metadata": {},
          "execution_count": 9
        },
        {
          "output_type": "display_data",
          "data": {
            "text/plain": [
              "<Figure size 432x288 with 1 Axes>"
            ],
            "image/png": "[encoded data removed]"
          },
          "metadata": {
            "needs_background": "light"
          }
        }
      ]
    }
  ]
}